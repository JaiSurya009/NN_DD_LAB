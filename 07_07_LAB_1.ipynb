{
  "nbformat": 4,
  "nbformat_minor": 0,
  "metadata": {
    "colab": {
      "provenance": [],
      "authorship_tag": "ABX9TyN8E83vD4N6L2oCNL4f/AjL",
      "include_colab_link": true
    },
    "kernelspec": {
      "name": "python3",
      "display_name": "Python 3"
    },
    "language_info": {
      "name": "python"
    }
  },
  "cells": [
    {
      "cell_type": "markdown",
      "metadata": {
        "id": "view-in-github",
        "colab_type": "text"
      },
      "source": [
        "<a href=\"https://colab.research.google.com/github/JaiSurya009/NN_DD_LAB/blob/main/07_07_LAB_1.ipynb\" target=\"_parent\"><img src=\"https://colab.research.google.com/assets/colab-badge.svg\" alt=\"Open In Colab\"/></a>"
      ]
    },
    {
      "cell_type": "markdown",
      "source": [
        "#AND Operation"
      ],
      "metadata": {
        "id": "vG_4tW8HXkeJ"
      }
    },
    {
      "cell_type": "code",
      "source": [
        "import numpy as np"
      ],
      "metadata": {
        "id": "I_1GzbHo5z_c"
      },
      "execution_count": 2,
      "outputs": []
    },
    {
      "cell_type": "code",
      "source": [
        "x = np.asarray([[0,0],[0,1],[1,0],[1,1]])\n",
        "y = np.asarray([0,0,0,1])\n",
        "y_pred = np.zeros(4)"
      ],
      "metadata": {
        "id": "MVhwleoY54Dl"
      },
      "execution_count": null,
      "outputs": []
    },
    {
      "cell_type": "code",
      "source": [
        "weights = np.asarray([1,1])\n",
        "threshold = 1.5"
      ],
      "metadata": {
        "id": "RM7YV7TG6F8e"
      },
      "execution_count": null,
      "outputs": []
    },
    {
      "cell_type": "code",
      "source": [
        "for i in range(x.shape[0]):\n",
        "  k = x[i]\n",
        "  sw = np.dot(k,weights)\n",
        "  if (sw >= threshold):\n",
        "    y_pred[i] = 1\n",
        "  else:\n",
        "    y_pred[i]=0"
      ],
      "metadata": {
        "id": "i9dQ3BxQ68kU"
      },
      "execution_count": null,
      "outputs": []
    },
    {
      "cell_type": "code",
      "source": [
        "print(y_pred)"
      ],
      "metadata": {
        "colab": {
          "base_uri": "https://localhost:8080/"
        },
        "id": "vwu0W9HB7dck",
        "outputId": "6a0dd3aa-76e1-4b8e-9dae-48f66bf1efbf"
      },
      "execution_count": null,
      "outputs": [
        {
          "output_type": "stream",
          "name": "stdout",
          "text": [
            "[0. 0. 0. 1.]\n"
          ]
        }
      ]
    },
    {
      "cell_type": "markdown",
      "source": [
        "#OR Operation"
      ],
      "metadata": {
        "id": "j1vUtGW0XsFN"
      }
    },
    {
      "cell_type": "code",
      "source": [
        "p = np.asarray([[0,0],[0,1],[1,0],[1,1]])\n",
        "q = np.asarray([0,0,0,1])\n",
        "q_pred = np.zeros(4)"
      ],
      "metadata": {
        "id": "mRTwLSir8fsD"
      },
      "execution_count": null,
      "outputs": []
    },
    {
      "cell_type": "code",
      "source": [
        "weight_s = np.asarray([1,1])\n",
        "thres_hold = 0.5"
      ],
      "metadata": {
        "id": "B4OWuDpo8mlr"
      },
      "execution_count": null,
      "outputs": []
    },
    {
      "cell_type": "code",
      "source": [
        "for i in range(p.shape[0]):\n",
        "  t = p[i]\n",
        "  s_w = np.dot(t,weight_s)\n",
        "  if (s_w >= thres_hold):\n",
        "    q_pred[i] = 1\n",
        "  else:\n",
        "    q_pred[i]=0"
      ],
      "metadata": {
        "id": "0a2GDckd8uTk"
      },
      "execution_count": null,
      "outputs": []
    },
    {
      "cell_type": "code",
      "source": [
        "print(q_pred)"
      ],
      "metadata": {
        "colab": {
          "base_uri": "https://localhost:8080/"
        },
        "outputId": "d7910727-9bdd-444d-d850-d6b61bfc1358",
        "id": "e_ayODTA9GtC"
      },
      "execution_count": null,
      "outputs": [
        {
          "output_type": "stream",
          "name": "stdout",
          "text": [
            "[0. 1. 1. 1.]\n"
          ]
        }
      ]
    },
    {
      "cell_type": "markdown",
      "source": [
        "# SLOPE AND INTERCEPT"
      ],
      "metadata": {
        "id": "aGuCmaQpXbVx"
      }
    },
    {
      "cell_type": "code",
      "source": [
        "g = np.array([3,4,5,6])\n",
        "h = np.array([6,8,10,12])\n",
        "g,h = np.polyfit(g,h,1)\n",
        "print(\"Slope: \",g)\n",
        "print(\"Intercept: \",h)"
      ],
      "metadata": {
        "colab": {
          "base_uri": "https://localhost:8080/"
        },
        "id": "brLvch7bWInO",
        "outputId": "ea7328e6-9316-431a-8cb9-97123c4a135c"
      },
      "execution_count": 9,
      "outputs": [
        {
          "output_type": "stream",
          "name": "stdout",
          "text": [
            "Slope:  2.0\n",
            "Intercept:  3.1491611052924456e-15\n"
          ]
        }
      ]
    }
  ]
}